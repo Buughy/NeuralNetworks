{
 "cells": [
  {
   "cell_type": "code",
   "id": "initial_id",
   "metadata": {
    "collapsed": true,
    "ExecuteTime": {
     "end_time": "2024-12-01T23:01:42.661009Z",
     "start_time": "2024-12-01T23:01:42.655945Z"
    }
   },
   "source": [
    "import torch\n",
    "import torch.nn as nn\n",
    "import torch.optim as optim\n",
    "from torchvision.datasets import MNIST\n",
    "from torchvision import transforms\n",
    "from torch.utils.data import DataLoader\n",
    "import torch.nn.functional as F\n",
    "import numpy as np\n",
    "import pandas as pd"
   ],
   "outputs": [],
   "execution_count": 109
  },
  {
   "metadata": {
    "ExecuteTime": {
     "end_time": "2024-12-01T23:01:42.715558Z",
     "start_time": "2024-12-01T23:01:42.671856Z"
    }
   },
   "cell_type": "code",
   "source": [
    "train_transforms = transforms.Compose([\n",
    "    transforms.ToTensor(),\n",
    "    transforms.Normalize((0.5,), (0.5,))\n",
    "])\n",
    "\n",
    "test_transforms = transforms.Compose([\n",
    "    transforms.ToTensor(),\n",
    "    transforms.Normalize((0.5,), (0.5,))\n",
    "])\n",
    "\n",
    "train_dataset = MNIST('data', train=True, transform=train_transforms, download=True)\n",
    "test_dataset = MNIST('data', train=False, transform=test_transforms, download=True)\n",
    "\n",
    "batch_size = 100\n",
    "train_loader = DataLoader(train_dataset, batch_size=batch_size, shuffle=True)\n",
    "test_loader = DataLoader(test_dataset, batch_size=batch_size, shuffle=False)\n"
   ],
   "id": "686c2d7043f4b475",
   "outputs": [],
   "execution_count": 110
  },
  {
   "metadata": {
    "ExecuteTime": {
     "end_time": "2024-12-01T23:01:42.747868Z",
     "start_time": "2024-12-01T23:01:42.743910Z"
    }
   },
   "cell_type": "code",
   "source": [
    "class MyModel(nn.Module):\n",
    "    def __init__(self):\n",
    "        super().__init__()\n",
    "        self.fc1 = nn.Linear(28 * 28, 512)\n",
    "        self.fc2 = nn.Linear(512, 256)\n",
    "        self.fc3 = nn.Linear(256, 128)\n",
    "        self.fc4 = nn.Linear(128, 64)\n",
    "        self.fc5 = nn.Linear(64, 10)\n",
    "        self.dropout = nn.Dropout(p=0.3)\n",
    "\n",
    "    def forward(self, x):\n",
    "        x = x.view(x.size(0), -1)  # Flatten the input\n",
    "        x = self.dropout(F.leaky_relu(self.fc1(x)))\n",
    "        x = self.dropout(F.leaky_relu(self.fc2(x)))\n",
    "        x = self.dropout(F.leaky_relu(self.fc3(x)))\n",
    "        x = self.dropout(F.leaky_relu(self.fc4(x)))\n",
    "        return F.log_softmax(self.fc5(x), dim=1)\n"
   ],
   "id": "d3467a5c22d7a036",
   "outputs": [],
   "execution_count": 111
  },
  {
   "metadata": {
    "ExecuteTime": {
     "end_time": "2024-12-01T23:04:57.082423Z",
     "start_time": "2024-12-01T23:02:46.687209Z"
    }
   },
   "cell_type": "code",
   "source": [
    "device = torch.device(\"cuda\" if torch.cuda.is_available() else \"cpu\")\n",
    "model = MyModel().to(device)\n",
    "criterion = nn.CrossEntropyLoss()\n",
    "optimizer = optim.AdamW(model.parameters(), lr=0.0005, weight_decay=0.001)\n",
    "\n",
    "def train(model, train_loader, criterion, optimizer, device):\n",
    "    model.train()\n",
    "    mean_loss = 0.0\n",
    "    for data, labels in train_loader:\n",
    "        data, labels = data.to(device), labels.to(device)\n",
    "        optimizer.zero_grad()\n",
    "        outputs = model(data)\n",
    "        loss = criterion(outputs, labels)\n",
    "        loss.backward()\n",
    "        optimizer.step()\n",
    "        mean_loss += loss.item()\n",
    "    mean_loss /= len(train_loader)\n",
    "    return mean_loss\n",
    "\n",
    "epochs = 25\n",
    "\n",
    "def evaluate(model, test_loader, device):\n",
    "    model.eval()\n",
    "    correct = 0\n",
    "    total = 0\n",
    "    with torch.no_grad():\n",
    "        for data, labels in test_loader:\n",
    "            data, labels = data.to(device), labels.to(device)\n",
    "            outputs = model(data)\n",
    "            _, predicted = torch.max(outputs, 1)\n",
    "            total += labels.size(0)\n",
    "            correct += (predicted == labels).sum().item()\n",
    "    accuracy = 100 * correct / total\n",
    "    return accuracy\n",
    "\n",
    "for epoch in range(epochs):\n",
    "    train_loss = train(model, train_loader, criterion, optimizer, device)\n",
    "    accuracy = evaluate(model, test_loader, device)\n",
    "    print(f\"Epoch {epoch+1}/{epochs}, Training Loss: {train_loss:.4f}, Accuracy: {accuracy:.2f}%\")"
   ],
   "id": "769a841c9e50da6",
   "outputs": [
    {
     "name": "stdout",
     "output_type": "stream",
     "text": [
      "Epoch 1/25, Training Loss: 0.6354, Accuracy: 93.19%\n",
      "Epoch 2/25, Training Loss: 0.2609, Accuracy: 95.71%\n",
      "Epoch 3/25, Training Loss: 0.2003, Accuracy: 95.55%\n",
      "Epoch 4/25, Training Loss: 0.1731, Accuracy: 96.55%\n",
      "Epoch 5/25, Training Loss: 0.1545, Accuracy: 96.94%\n",
      "Epoch 6/25, Training Loss: 0.1372, Accuracy: 96.95%\n",
      "Epoch 7/25, Training Loss: 0.1283, Accuracy: 97.35%\n",
      "Epoch 8/25, Training Loss: 0.1195, Accuracy: 97.21%\n",
      "Epoch 9/25, Training Loss: 0.1088, Accuracy: 97.41%\n",
      "Epoch 10/25, Training Loss: 0.1081, Accuracy: 97.80%\n",
      "Epoch 11/25, Training Loss: 0.0995, Accuracy: 97.67%\n",
      "Epoch 12/25, Training Loss: 0.0977, Accuracy: 97.51%\n",
      "Epoch 13/25, Training Loss: 0.0893, Accuracy: 97.85%\n",
      "Epoch 14/25, Training Loss: 0.0871, Accuracy: 97.99%\n",
      "Epoch 15/25, Training Loss: 0.0806, Accuracy: 97.78%\n",
      "Epoch 16/25, Training Loss: 0.0801, Accuracy: 97.61%\n",
      "Epoch 17/25, Training Loss: 0.0766, Accuracy: 97.85%\n",
      "Epoch 18/25, Training Loss: 0.0710, Accuracy: 97.94%\n",
      "Epoch 19/25, Training Loss: 0.0721, Accuracy: 97.96%\n",
      "Epoch 20/25, Training Loss: 0.0695, Accuracy: 98.10%\n",
      "Epoch 21/25, Training Loss: 0.0710, Accuracy: 98.32%\n",
      "Epoch 22/25, Training Loss: 0.0645, Accuracy: 98.11%\n",
      "Epoch 23/25, Training Loss: 0.0652, Accuracy: 98.10%\n",
      "Epoch 24/25, Training Loss: 0.0638, Accuracy: 98.12%\n",
      "Epoch 25/25, Training Loss: 0.0574, Accuracy: 98.10%\n"
     ]
    }
   ],
   "execution_count": 113
  },
  {
   "metadata": {
    "ExecuteTime": {
     "end_time": "2024-12-01T23:08:18.305450Z",
     "start_time": "2024-12-01T23:08:17.673508Z"
    }
   },
   "cell_type": "code",
   "source": [
    "model.eval()\n",
    "correct = 0\n",
    "total = 0\n",
    "predictions = []\n",
    "with torch.no_grad():\n",
    "    for data, labels in test_loader:\n",
    "        data, labels = data.to(device), labels.to(device)\n",
    "        outputs = model(data)\n",
    "        _, predicted = torch.max(outputs, 1)\n",
    "        total += labels.size(0)\n",
    "        correct += (predicted == labels).sum().item()\n",
    "        predictions.extend(predicted.cpu().numpy())\n",
    "\n",
    "accuracy = 100 * correct / total\n",
    "print(f'Accuracy: {accuracy:.2f}%')\n",
    "\n",
    "# Create submission file\n",
    "submission = pd.DataFrame({\n",
    "    'ID': np.arange(len(predictions)),\n",
    "    'target': predictions\n",
    "})\n",
    "submission.to_csv('submission.csv', index=False)"
   ],
   "id": "1a5d04cb17ea6976",
   "outputs": [
    {
     "name": "stdout",
     "output_type": "stream",
     "text": [
      "Accuracy: 98.10%\n",
      "Current Working Directory: /Users/bughy/Desktop/Master/NeuralNetworks/tema3\n",
      "File 'submission.csv' created successfully.\n"
     ]
    }
   ],
   "execution_count": 117
  },
  {
   "metadata": {
    "ExecuteTime": {
     "end_time": "2024-12-01T23:02:17.552676Z",
     "start_time": "2024-12-01T22:43:54.358787Z"
    }
   },
   "cell_type": "code",
   "source": "",
   "id": "e3d040dcfe35e833",
   "outputs": [],
   "execution_count": null
  },
  {
   "metadata": {
    "ExecuteTime": {
     "end_time": "2024-12-01T23:02:17.552816Z",
     "start_time": "2024-12-01T22:43:54.386636Z"
    }
   },
   "cell_type": "code",
   "source": "",
   "id": "9f0d7afbb793ef67",
   "outputs": [],
   "execution_count": null
  },
  {
   "metadata": {
    "ExecuteTime": {
     "end_time": "2024-12-01T23:02:17.552901Z",
     "start_time": "2024-12-01T22:43:54.414Z"
    }
   },
   "cell_type": "code",
   "source": "",
   "id": "8a396560cf5f407b",
   "outputs": [],
   "execution_count": null
  }
 ],
 "metadata": {
  "kernelspec": {
   "display_name": "Python 3",
   "language": "python",
   "name": "python3"
  },
  "language_info": {
   "codemirror_mode": {
    "name": "ipython",
    "version": 2
   },
   "file_extension": ".py",
   "mimetype": "text/x-python",
   "name": "python",
   "nbconvert_exporter": "python",
   "pygments_lexer": "ipython2",
   "version": "2.7.6"
  }
 },
 "nbformat": 4,
 "nbformat_minor": 5
}
