{
 "cells": [
  {
   "cell_type": "code",
   "id": "initial_id",
   "metadata": {
    "collapsed": true,
    "ExecuteTime": {
     "end_time": "2024-11-09T10:57:48.019313Z",
     "start_time": "2024-11-09T10:57:43.190876Z"
    }
   },
   "source": [
    "import numpy as np\n",
    "from torchvision.datasets import MNIST"
   ],
   "outputs": [],
   "execution_count": 1
  },
  {
   "metadata": {},
   "cell_type": "markdown",
   "source": "### Downloading the MNIST dataset",
   "id": "947f2c7cd8174d6a"
  },
  {
   "metadata": {
    "ExecuteTime": {
     "end_time": "2024-11-09T10:57:49.532784Z",
     "start_time": "2024-11-09T10:57:48.030237Z"
    }
   },
   "cell_type": "code",
   "source": [
    "def download_mnist(is_train: bool):\n",
    "    dataset = MNIST(root='./data',\n",
    "                    transform=lambda x: np.array(x).flatten() / 255.0,\n",
    "                    download=True,\n",
    "                    train=is_train)\n",
    "    mnist_data = []\n",
    "    mnist_labels = []\n",
    "    for image, label in dataset:\n",
    "        mnist_data.append(image)\n",
    "        ohl = np.zeros(10)\n",
    "        ohl[label] = 1\n",
    "        mnist_labels.append(ohl)\n",
    "    return np.array(mnist_data), np.array(mnist_labels)\n",
    "\n",
    "train_X, train_Y = download_mnist(True)\n",
    "test_X, test_Y = download_mnist(False)"
   ],
   "id": "23584df9f6a96f78",
   "outputs": [],
   "execution_count": 2
  },
  {
   "metadata": {},
   "cell_type": "markdown",
   "source": "### Softmax function",
   "id": "f017b3e9edccfa59"
  },
  {
   "metadata": {
    "ExecuteTime": {
     "end_time": "2024-11-09T10:57:49.618235Z",
     "start_time": "2024-11-09T10:57:49.615522Z"
    }
   },
   "cell_type": "code",
   "source": [
    "def softmax(weighted_sum):\n",
    "    denominator = np.exp(weighted_sum - np.max(weighted_sum, axis=1, keepdims=True))\n",
    "    return denominator / np.sum(denominator, axis=1, keepdims=True)"
   ],
   "id": "568e2252ec14ad1a",
   "outputs": [],
   "execution_count": 3
  },
  {
   "metadata": {},
   "cell_type": "markdown",
   "source": "### Predict function",
   "id": "de841909a713dc7f"
  },
  {
   "metadata": {
    "ExecuteTime": {
     "end_time": "2024-11-09T10:57:49.627916Z",
     "start_time": "2024-11-09T10:57:49.625663Z"
    }
   },
   "cell_type": "code",
   "source": [
    "def predict(inputs, weights, bias):\n",
    "    dot_product = np.dot(inputs, weights) + bias\n",
    "    return softmax(dot_product)"
   ],
   "id": "fa5f5a6d15ba74e5",
   "outputs": [],
   "execution_count": 4
  },
  {
   "metadata": {},
   "cell_type": "markdown",
   "source": "### Training function",
   "id": "fab34c1ab95ca10b"
  },
  {
   "metadata": {
    "ExecuteTime": {
     "end_time": "2024-11-09T10:57:52.129037Z",
     "start_time": "2024-11-09T10:57:49.633836Z"
    }
   },
   "cell_type": "code",
   "source": [
    "def train(inputs, targets):\n",
    "    epochs=50\n",
    "    batch_size=100\n",
    "    learning_rate=0.0008\n",
    "    weights = np.zeros((784, 10))\n",
    "    # weights = np.random.randn(784, 10) * 0.01\n",
    "    bias = np.zeros(10)\n",
    "    \n",
    "    for epoch in range(epochs):\n",
    "        for start in range(0, inputs.shape[0], batch_size):\n",
    "            end = start + batch_size\n",
    "            \n",
    "            batch_inputs = inputs[start:end]\n",
    "            batch_targets = targets[start:end]\n",
    "            \n",
    "            predictions = predict(batch_inputs, weights, bias)\n",
    "            \n",
    "            errors = batch_targets - predictions\n",
    "            weights += learning_rate * np.dot(batch_inputs.T, errors)\n",
    "            bias += learning_rate * np.sum(errors, axis=0)\n",
    "    return weights, bias\n",
    "\n",
    "weights, bias = train(train_X, train_Y)"
   ],
   "id": "1d65ee6b188da809",
   "outputs": [],
   "execution_count": 5
  },
  {
   "metadata": {},
   "cell_type": "markdown",
   "source": "### Evaluation",
   "id": "e1dbbef000b812be"
  },
  {
   "metadata": {
    "ExecuteTime": {
     "end_time": "2024-11-09T10:57:52.138458Z",
     "start_time": "2024-11-09T10:57:52.135377Z"
    }
   },
   "cell_type": "code",
   "source": [
    "def evaluate_accuracy(inputs, targets, weights, bias):\n",
    "    predictions = predict(inputs, weights, bias)\n",
    "    predicted_labels = np.argmax(predictions, axis=1)\n",
    "    true_labels = np.argmax(targets, axis=1)\n",
    "    \n",
    "    return np.mean(predicted_labels == true_labels)"
   ],
   "id": "7bb8acb71fb834a",
   "outputs": [],
   "execution_count": 6
  },
  {
   "metadata": {},
   "cell_type": "markdown",
   "source": "### Evaluate the model",
   "id": "13f3e597ab804261"
  },
  {
   "metadata": {
    "ExecuteTime": {
     "end_time": "2024-11-09T10:57:52.154342Z",
     "start_time": "2024-11-09T10:57:52.144698Z"
    }
   },
   "cell_type": "code",
   "source": [
    "accuracy = evaluate_accuracy(test_X, test_Y, weights, bias)\n",
    "print(f\"Accuracy: {(accuracy * 100):.2f}%\")"
   ],
   "id": "7e59955d5f9343ac",
   "outputs": [
    {
     "name": "stdout",
     "output_type": "stream",
     "text": [
      "Accuracy: 92.50%\n"
     ]
    }
   ],
   "execution_count": 7
  }
 ],
 "metadata": {
  "kernelspec": {
   "display_name": "Python 3",
   "language": "python",
   "name": "python3"
  },
  "language_info": {
   "codemirror_mode": {
    "name": "ipython",
    "version": 2
   },
   "file_extension": ".py",
   "mimetype": "text/x-python",
   "name": "python",
   "nbconvert_exporter": "python",
   "pygments_lexer": "ipython2",
   "version": "2.7.6"
  }
 },
 "nbformat": 4,
 "nbformat_minor": 5
}
