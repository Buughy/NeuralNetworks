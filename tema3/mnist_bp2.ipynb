{
 "cells": [
  {
   "cell_type": "code",
   "id": "initial_id",
   "metadata": {
    "collapsed": true,
    "ExecuteTime": {
     "end_time": "2024-11-11T06:37:10.626859Z",
     "start_time": "2024-11-11T06:37:10.617931Z"
    }
   },
   "source": [
    "import numpy as np\n",
    "from matplotlib import pyplot as plt\n",
    "from torchvision.datasets import MNIST\n",
    "from tqdm import tqdm\n",
    "from IPython.display import clear_output"
   ],
   "outputs": [],
   "execution_count": 182
  },
  {
   "metadata": {
    "ExecuteTime": {
     "end_time": "2024-11-11T06:37:12.249790Z",
     "start_time": "2024-11-11T06:37:10.634164Z"
    }
   },
   "cell_type": "code",
   "source": [
    "def download_mnist(is_train: bool):\n",
    "    dataset = MNIST(root='./data',\n",
    "                    transform=lambda x: np.array(x).flatten() / 255.0,\n",
    "                    download=True,\n",
    "                    train=is_train)\n",
    "    mnist_data = []\n",
    "    mnist_labels = []\n",
    "    for image, label in dataset:\n",
    "        mnist_data.append(image)\n",
    "        ohl = np.zeros(10)\n",
    "        ohl[label] = 1\n",
    "        mnist_labels.append(ohl)\n",
    "        \n",
    "    return np.array(mnist_data).T, np.array(mnist_labels).T\n",
    "\n",
    "train_X, train_Y = download_mnist(True)\n",
    "train_Y = np.argmax(train_Y, axis=0)  # Convert one-hot encoded labels to class labels\n",
    "test_X, test_Y = download_mnist(False)\n",
    "test_Y = np.argmax(test_Y, axis=0)  # Convert one-hot encoded labels to class labels\n"
   ],
   "id": "5fbd606aad0153d9",
   "outputs": [],
   "execution_count": 183
  },
  {
   "metadata": {
    "ExecuteTime": {
     "end_time": "2024-11-11T06:37:12.264571Z",
     "start_time": "2024-11-11T06:37:12.262237Z"
    }
   },
   "cell_type": "code",
   "source": [
    "def init_params():\n",
    "    W1 = np.random.randn(100, 784) * 0.01\n",
    "    b1 = np.zeros((100, 1))\n",
    "    W2 = np.random.randn(10, 100) * 0.01\n",
    "    b2 = np.zeros((10, 1))\n",
    "\n",
    "    return W1, b1, W2, b2"
   ],
   "id": "7ff4447ffdc4ef3b",
   "outputs": [],
   "execution_count": 184
  },
  {
   "metadata": {
    "ExecuteTime": {
     "end_time": "2024-11-11T06:37:12.278077Z",
     "start_time": "2024-11-11T06:37:12.276084Z"
    }
   },
   "cell_type": "code",
   "source": [
    "def relu(z):\n",
    "    return np.maximum(0, z)\n"
   ],
   "id": "b5a8ba49479e35fc",
   "outputs": [],
   "execution_count": 185
  },
  {
   "metadata": {
    "ExecuteTime": {
     "end_time": "2024-11-11T06:37:12.292659Z",
     "start_time": "2024-11-11T06:37:12.290305Z"
    }
   },
   "cell_type": "code",
   "source": [
    "def softmax(z):\n",
    "    exp_z = np.exp(z - np.max(z, axis=0, keepdims=True))\n",
    "    return exp_z / np.sum(exp_z, axis=0, keepdims=True)\n",
    "    # return np.exp(z) / np.sum(np.exp(z), axis=1, keepdims=True)\n"
   ],
   "id": "b2707f8c89630056",
   "outputs": [],
   "execution_count": 186
  },
  {
   "metadata": {
    "ExecuteTime": {
     "end_time": "2024-11-11T06:37:12.308116Z",
     "start_time": "2024-11-11T06:37:12.305542Z"
    }
   },
   "cell_type": "code",
   "source": [
    "def forward_propagation(X, W1, b1, W2, b2):\n",
    "    Z1 = W1.dot(X) + b1                 # (100, 784) * (784, 60000) + (100, 1) = (100, 60000)\n",
    "    A1 = relu(Z1)                       # (100, 60000)\n",
    "    Z2 = W2.dot(A1) + b2                # (10, 100) * (100, 60000) + (10, 1) = (10, 60000)\n",
    "    A2 = softmax(Z2)                    # (10, 60000)\n",
    "    \n",
    "    return Z1, A1, Z2, A2\n"
   ],
   "id": "b0ecc74a32a526ce",
   "outputs": [],
   "execution_count": 187
  },
  {
   "metadata": {
    "ExecuteTime": {
     "end_time": "2024-11-11T06:37:12.321802Z",
     "start_time": "2024-11-11T06:37:12.319346Z"
    }
   },
   "cell_type": "code",
   "source": [
    "def one_hot(y):\n",
    "    y = y.astype(int)\n",
    "    one_hot_y = np.zeros((y.size, y.max() + 1)) \n",
    "    one_hot_y[np.arange(y.size), y] = 1\n",
    "    return one_hot_y.T\n"
   ],
   "id": "fce42c510e89dd3b",
   "outputs": [],
   "execution_count": 188
  },
  {
   "metadata": {
    "ExecuteTime": {
     "end_time": "2024-11-11T06:37:12.336327Z",
     "start_time": "2024-11-11T06:37:12.333160Z"
    }
   },
   "cell_type": "code",
   "source": [
    "def back_propagation(z1, a1, a2, w1, w2, batch_input, y):\n",
    "    m = y.size\n",
    "    one_hot_y = one_hot(y) # (10, 60000) \n",
    "\n",
    "    dz2 = a2 - one_hot_y                                                 # dz2 is the difference between prediction and truth. (10, 60000)\n",
    "    dw2 = 1 / m * dz2.dot(a1.T)                                          # dw2 is the gradient for w2. (10, 100)\n",
    "    db2 = 1 / m * np.sum(dz2, axis=1, keepdims=True)                     # db2 is the gradient for b2. (10, 1)\n",
    "    dz1 = w2.T.dot(dz2) * relu(z1)                                       # dz1 is the gradient for z1. (100, 60000)\n",
    "    dw1 = 1 / m * dz1.dot(batch_input.T)                                 # dw1 is the gradient for w1. (100, 784)\n",
    "    db1 = 1 / m * np.sum(dz1, axis=1, keepdims=True)                     # db1 is the gradient for b1. (100, 1)\n",
    "\n",
    "    return dw1, db1, dw2, db2"
   ],
   "id": "a456a521c0f5ae23",
   "outputs": [],
   "execution_count": 189
  },
  {
   "metadata": {
    "ExecuteTime": {
     "end_time": "2024-11-11T06:37:12.351986Z",
     "start_time": "2024-11-11T06:37:12.348847Z"
    }
   },
   "cell_type": "code",
   "source": [
    "def update_params(w1, b1, w2, b2, dw1, db1, dw2, db2, learning_rate):\n",
    "    w1 = w1 - learning_rate * dw1\n",
    "    b1 = b1 - learning_rate * db1\n",
    "    w2 = w2 - learning_rate * dw2\n",
    "    b2 = b2 - learning_rate * db2\n",
    "\n",
    "    return w1, b1, w2, b2\n"
   ],
   "id": "eceb9c1e36cb8f6c",
   "outputs": [],
   "execution_count": 190
  },
  {
   "metadata": {
    "ExecuteTime": {
     "end_time": "2024-11-11T06:37:12.366295Z",
     "start_time": "2024-11-11T06:37:12.363726Z"
    }
   },
   "cell_type": "code",
   "source": [
    "def accuracy(a2, y):\n",
    "    return np.mean(np.argmax(a2, axis=0) == y)\n"
   ],
   "id": "71c3ee898eb92d70",
   "outputs": [],
   "execution_count": 191
  },
  {
   "metadata": {
    "ExecuteTime": {
     "end_time": "2024-11-11T06:47:01.257073Z",
     "start_time": "2024-11-11T06:47:01.249805Z"
    }
   },
   "cell_type": "code",
   "source": [
    "def evaluate_model(test_X, test_Y, w1, b1, w2, b2):\n",
    "    _, _, _, a2 = forward_propagation(test_X, w1, b1, w2, b2)\n",
    "    predictions = np.argmax(a2, axis=0)\n",
    "    misclassified_indices = np.where(predictions != test_Y)[0]\n",
    "    test_accuracy = accuracy(a2, test_Y)\n",
    "    return test_accuracy, misclassified_indices\n"
   ],
   "id": "4789a424a06f993",
   "outputs": [],
   "execution_count": 197
  },
  {
   "metadata": {
    "ExecuteTime": {
     "end_time": "2024-11-11T06:49:18.042440Z",
     "start_time": "2024-11-11T06:49:18.036126Z"
    }
   },
   "cell_type": "code",
   "source": [
    "def gradient_descent_with_lr_scheduler(x, y, epochs, target_accuracy, initial_learning_rate, batch_size, patience, decay_factor):\n",
    "    w1, b1, w2, b2 = init_params()\n",
    "    learning_rate = initial_learning_rate\n",
    "    best_accuracy = 0\n",
    "    epochs_without_improvement = 0\n",
    "\n",
    "    for epoch in tqdm(range(epochs)):\n",
    "        accuracies = []\n",
    "        for start in range(0, x.shape[1], batch_size):\n",
    "            end = start + batch_size\n",
    "\n",
    "            batch_input = x[:, start:end]\n",
    "            batch_target = y[start:end]\n",
    "\n",
    "            z1, a1, z2, a2 = forward_propagation(batch_input, w1, b1, w2, b2)\n",
    "            dw1, db1, dw2, db2 = back_propagation(z1, a1, a2, w1, w2, batch_input, batch_target)\n",
    "            w1, b1, w2, b2 = update_params(w1, b1, w2, b2, dw1, db1, dw2, db2, learning_rate)\n",
    "\n",
    "            batch_accuracy = accuracy(a2, batch_target)\n",
    "            accuracies.append(batch_accuracy)\n",
    "\n",
    "        train_accuracy = np.mean(accuracies)\n",
    "        test_accuracy, _ = evaluate_model(test_X, test_Y, w1, b1, w2, b2)\n",
    "        \n",
    "        if epoch % 5 == 0:\n",
    "            clear_output(wait=True)\n",
    "            print('Learning rate:', learning_rate)\n",
    "            print('Iteration:', epoch)\n",
    "            print('Train accuracy:', train_accuracy * 100, '%')\n",
    "            print('Test accuracy:', test_accuracy * 100, '%')\n",
    "\n",
    "        if train_accuracy > best_accuracy:\n",
    "            best_accuracy = test_accuracy\n",
    "            epochs_without_improvement = 0\n",
    "        else:\n",
    "            epochs_without_improvement += 1\n",
    "\n",
    "        if epochs_without_improvement >= patience and learning_rate > 0.0001:\n",
    "            learning_rate *= decay_factor\n",
    "            print(f'Learning rate decayed to {learning_rate}')\n",
    "            epochs_without_improvement = 0\n",
    "\n",
    "        if test_accuracy >= target_accuracy:\n",
    "            print('Target accuracy reached. Stopping training.')\n",
    "            break\n",
    "\n",
    "    return w1, b1, w2, b2"
   ],
   "id": "491d6a635f3cbd04",
   "outputs": [],
   "execution_count": 200
  },
  {
   "metadata": {},
   "cell_type": "code",
   "source": [
    "target_accuracy = 0.99\n",
    "max_iterations = 100\n",
    "initial_learning_rate = 0.25\n",
    "batch_size = 100\n",
    "patience = 5\n",
    "decay_factor = 0.5\n",
    "\n",
    "w1, b1, w2, b2 = gradient_descent_with_lr_scheduler(train_X, train_Y, max_iterations, target_accuracy, initial_learning_rate, batch_size, patience, decay_factor)"
   ],
   "id": "e76639065ca3c5f0",
   "execution_count": 194,
   "outputs": [
    {
     "name": "stdout",
     "output_type": "stream",
     "text": [
      "Learning rate: 0.0001220703125\n",
      "Iteration: 95\n",
      "Train accuracy: 99.43666666666668 %\n",
      "Test accuracy: 97.02 %\n"
     ]
    },
    {
     "name": "stderr",
     "output_type": "stream",
     "text": [
      " 98%|█████████▊| 98/100 [01:53<00:02,  1.06s/it]"
     ]
    },
    {
     "name": "stdout",
     "output_type": "stream",
     "text": [
      "Learning rate decayed to 6.103515625e-05\n"
     ]
    },
    {
     "name": "stderr",
     "output_type": "stream",
     "text": [
      "100%|██████████| 100/100 [01:54<00:00,  1.15s/it]\n"
     ]
    }
   ]
  },
  {
   "metadata": {
    "ExecuteTime": {
     "end_time": "2024-11-11T06:39:07.498903Z",
     "start_time": "2024-11-11T06:39:07.419751Z"
    }
   },
   "cell_type": "code",
   "source": [
    "def show_random_misclassified_image(test_X, test_Y, misclassified_indices, predictions):\n",
    "    if len(misclassified_indices) == 0:\n",
    "        print(\"No misclassified images to display.\")\n",
    "        return\n",
    "\n",
    "    random_index = np.random.choice(misclassified_indices)\n",
    "    plt.figure(figsize=(5, 5))\n",
    "    plt.imshow(test_X[:, random_index].reshape(28, 28), cmap='gray')\n",
    "    plt.title(f'True: {test_Y[random_index]}, Pred: {predictions[random_index]}')\n",
    "    plt.axis('off')\n",
    "    plt.show()\n",
    "\n",
    "# Evaluate the model and get misclassified indices\n",
    "test_accuracy, misclassified_indices = evaluate_model(test_X, test_Y, w1, b1, w2, b2)\n",
    "_, _, _, a2 = forward_propagation(test_X, w1, b1, w2, b2)\n",
    "predictions = np.argmax(a2, axis=0)"
   ],
   "id": "cee35ddf43e2f6e8",
   "outputs": [],
   "execution_count": 195
  },
  {
   "metadata": {
    "ExecuteTime": {
     "end_time": "2024-11-11T07:01:39.848390Z",
     "start_time": "2024-11-11T07:01:39.636483Z"
    }
   },
   "cell_type": "code",
   "source": [
    "# Show a random misclassified image\n",
    "show_random_misclassified_image(test_X, test_Y, misclassified_indices, predictions)"
   ],
   "id": "ba151be9d45f4dd9",
   "outputs": [
    {
     "data": {
      "text/plain": [
       "<Figure size 500x500 with 1 Axes>"
      ],
      "image/png": "[encoded data removed]"
     },
     "metadata": {},
     "output_type": "display_data"
    }
   ],
   "execution_count": 203
  }
 ],
 "metadata": {
  "kernelspec": {
   "display_name": "Python 3",
   "language": "python",
   "name": "python3"
  },
  "language_info": {
   "codemirror_mode": {
    "name": "ipython",
    "version": 2
   },
   "file_extension": ".py",
   "mimetype": "text/x-python",
   "name": "python",
   "nbconvert_exporter": "python",
   "pygments_lexer": "ipython2",
   "version": "2.7.6"
  }
 },
 "nbformat": 4,
 "nbformat_minor": 5
}
